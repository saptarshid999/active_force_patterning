import os

import numpy as np
import matplotlib.pyplot as plt
import time
import sys
from scipy.sparse import spdiags
from scipy.sparse import csr_matrix

import scipy.io
import numpy as np
import h5py
import matplotlib.animation as animation
import matplotlib.pyplot as plt
import os
from subprocess import STDOUT

