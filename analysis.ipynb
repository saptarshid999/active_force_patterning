{
 "cells": [
  {
   "cell_type": "code",
   "execution_count": 1,
   "metadata": {},
   "outputs": [],
   "source": [
    "import os\n",
    "\n",
    "import numpy as np\n",
    "import matplotlib.pyplot as plt\n",
    "import time\n",
    "import sys\n",
    "from scipy.sparse import spdiags\n",
    "from scipy.sparse import csr_matrix\n",
    "\n",
    "import scipy.io\n",
    "import numpy as np\n",
    "import h5py\n",
    "import matplotlib.animation as animation\n",
    "import matplotlib.pyplot as plt\n",
    "import os\n",
    "from subprocess import STDOUT"
   ]
  },
  {
   "cell_type": "code",
   "execution_count": null,
   "metadata": {},
   "outputs": [],
   "source": [
    "#execute this block if you have compiled two_species.py and generated data\n",
    "\n",
    "\n",
    "#Please enter the full path of the snapshots folder inside the quotes below. For example os.chdir('/media/user/numerics/snapshots')\n",
    "\n",
    "os.chdir('')\n",
    "\n",
    "\n",
    "f = h5py.File('snapshots_s1.h5')\n",
    "group = f['tasks']\n",
    "list=f['tasks'].keys()\n",
    "group2 = f['scales']\n",
    "list2 = f['scales'].keys()\n",
    "\n",
    "\n",
    "r1 = group['rho1'][()]\n",
    "r2 = group['rho2'][()]\n",
    "eps=  group['strain'][()]\n",
    "u=group['u'][()]\n",
    "stress=group['stress'][()]\n",
    "time= group2['sim_time'][()]\n",
    "rho=(r1+r2)/2\n",
    "phi= (r1-r2)/2"
   ]
  },
  {
   "cell_type": "code",
   "execution_count": null,
   "metadata": {},
   "outputs": [],
   "source": [
    "#execute this block if you have compiled one_species.py and generated data\n",
    "\n",
    "\n",
    "#Please enter the full path of the snapshots folder inside the quotes below. For example os.chdir('/media/user/numerics/snapshots')\n",
    "\n",
    "\n",
    "os.chdir('')\n",
    "f = h5py.File('snapshots_s1.h5')\n",
    "group = f['tasks']\n",
    "list=f['tasks'].keys()\n",
    "group2 = f['scales']\n",
    "list2 = f['scales'].keys()\n",
    "\n",
    "\n",
    "rho = group['rho'][()]\n",
    "eps=  group['strain'][()]\n",
    "u=group['u'][()]\n",
    "time= group2['sim_time'][()]"
   ]
  },
  {
   "cell_type": "code",
   "execution_count": null,
   "metadata": {},
   "outputs": [],
   "source": [
    "# Movie Creation for one species\n",
    "\n",
    "#please enter full path of the folder where the image files for the movie will be generated in os.chdir(''). Here the files are being saved in a folder 'images'\n",
    "os.chdir('')\n",
    "\n",
    "\n",
    "for i in np.arange(1,np.shape(rho)[0],1):\n",
    "    plt.plot(rho[i,:])\n",
    "    plt.plot(eps[i,:])\n",
    "    plt.plot(u[i,:],linewidth=1.5, alpha=0.8, c='violet')\n",
    "    plt.title(time[i])\n",
    "    plt.legend([r\"$\\rho$\",r\"$\\epsilon$\", r\"$u$\"])\n",
    "    plt.tight_layout()\n",
    "    plt.savefig(\"images/rho%0.7d.png\"%i, dpi = 200)\n",
    "    plt.clf()\n",
    "    "
   ]
  },
  {
   "cell_type": "code",
   "execution_count": null,
   "metadata": {},
   "outputs": [],
   "source": [
    "#Movie creation for two species \n",
    "\n",
    "#please enter full path of the folder where the image files for the movie will be generated in os.chdir(''). Here the files are being saved in a folder 'images'\n",
    "\n",
    "\n",
    "os.chdir('')\n",
    "\n",
    "#os.mkdir('rhophi')\n",
    "\n",
    "for i in np.arange(1,1001,2):\n",
    "    plt.plot(rho[i,:])\n",
    "    plt.plot(phi[i,:])\n",
    "    plt.plot(eps[i,:])\n",
    "    plt.plot(u[i,:])\n",
    "    plt.title(time[i])\n",
    "    plt.legend([r\"$\\rho$\",r\"$\\phi$\",r\"$\\epsilon$\",r\"$u$\"])\n",
    "    plt.tight_layout()\n",
    "    plt.savefig(\"images/rho%0.7d.png\"%i, dpi = 200)\n",
    "    plt.clf()"
   ]
  },
  {
   "cell_type": "code",
   "execution_count": null,
   "metadata": {},
   "outputs": [],
   "source": [
    "# Once the image files have been generated, one can stitch the images together and make a movie using ffmpeg.\n",
    "# A sample code is given below: \n",
    "\n",
    "# In the parent folder where the images are contained, in the terminal type 'ffmpeg -framerate 10 -pattern_type glob -i '*.png' -c:v libx264 -pix_fmt yuv420p my_movie.mp4'"
   ]
  }
 ],
 "metadata": {
  "kernelspec": {
   "display_name": "dedalus3",
   "language": "python",
   "name": "python3"
  },
  "language_info": {
   "codemirror_mode": {
    "name": "ipython",
    "version": 3
   },
   "file_extension": ".py",
   "mimetype": "text/x-python",
   "name": "python",
   "nbconvert_exporter": "python",
   "pygments_lexer": "ipython3",
   "version": "3.10.5"
  },
  "orig_nbformat": 4
 },
 "nbformat": 4,
 "nbformat_minor": 2
}
