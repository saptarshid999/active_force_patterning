{
 "cells": [
  {
   "cell_type": "code",
   "execution_count": 1,
   "metadata": {},
   "outputs": [],
   "source": [
    "import os\n",
    "\n",
    "import numpy as np\n",
    "import matplotlib.pyplot as plt\n",
    "import time\n",
    "import sys\n",
    "from scipy.sparse import spdiags\n",
    "from scipy.sparse import csr_matrix\n",
    "\n",
    "import scipy.io\n",
    "import h5py\n",
    "import matplotlib.animation as animation\n",
    "import matplotlib.pyplot as plt\n",
    "import os\n",
    "from subprocess import STDOUT\n",
    "import cmath "
   ]
  },
  {
   "cell_type": "code",
   "execution_count": null,
   "metadata": {},
   "outputs": [],
   "source": [
    "#execute this block if you have compiled two_species.py and generated data\n",
    "\n",
    "\n",
    "#Please enter the full path of the snapshots folder inside the quotes below. For example os.chdir('/media/user/numerics/snapshots')\n",
    "\n",
    "os.chdir('')\n",
    "\n",
    "\n",
    "f = h5py.File('snapshots_s1.h5')\n",
    "group = f['tasks']\n",
    "list=f['tasks'].keys()\n",
    "group2 = f['scales']\n",
    "list2 = f['scales'].keys()\n",
    "\n",
    "\n",
    "r1 = group['rho1'][()]\n",
    "r2 = group['rho2'][()]\n",
    "eps=  group['strain'][()]\n",
    "u=group['u'][()]\n",
    "stress=group['stress'][()]\n",
    "time= group2['sim_time'][()]\n",
    "rho=(r1+r2)/2\n",
    "phi= (r1-r2)/2"
   ]
  },
  {
   "cell_type": "code",
   "execution_count": null,
   "metadata": {},
   "outputs": [],
   "source": [
    "#script to create movie\n",
    "\n",
    "\n",
    "#Please enter the full path of the folder where the images will be saved inside the quotes below. For example os.chdir('/media/user/numerics/')\n",
    "\n",
    "os.chdir('')\n",
    "\n",
    "\n",
    "L= 64  #size of domain\n",
    "N= 256 #number of modes\n",
    "\n",
    "\n",
    "x= np.linspace(0, L, num=N)\n",
    "\n",
    "#plotting density, strain, stress etc. in deformed coordinates: \\tilde{x}= x + u(x,t)\n",
    "\n",
    "for i in np.arange(0,10000,10):\n",
    "\n",
    "    plt.tight_layout()\n",
    "    \n",
    "\n",
    "    plt.plot(x+u[i,:],rho[i,:],label = r'$\\rho$') #average density\n",
    "\n",
    "    plt.plot(x+u[i,:],phi[i,:],label = r'$\\phi$') #relative density\n",
    "\n",
    "    plt.plot(x+u[i,:],eps[i,:],label = r'$\\epsilon$') #strain\n",
    "\n",
    "    plt.plot(x+u[i,:],stress[i,:],label = r'$\\sigma$', alpha=0.3) #stress\n",
    "\n",
    "    plt.xlabel(r'$\\tilde{x}$')\n",
    "\n",
    "    plt.legend(loc='upper left')\n",
    "\n",
    "    plt.title('Time: '+ str(int(100+time[i]))) #simulation time displayed at the top portion of the frame\n",
    "\n",
    "    plt.savefig(\"video/rho%0.7d.png\"%i, dpi = 200)\n",
    "\n",
    "    plt.clf()"
   ]
  },
  {
   "cell_type": "code",
   "execution_count": null,
   "metadata": {},
   "outputs": [],
   "source": [
    "# Once the image files have been generated, one can stitch the images together and make a movie using ffmpeg.\n",
    "# A sample code is given below: \n",
    "\n",
    "# In the parent folder where the images are contained, in the terminal type 'ffmpeg -framerate 10 -pattern_type glob -i '*.png' -c:v libx264 -pix_fmt yuv420p my_movie.mp4'"
   ]
  }
 ],
 "metadata": {
  "kernelspec": {
   "display_name": "dedalus3",
   "language": "python",
   "name": "python3"
  },
  "language_info": {
   "codemirror_mode": {
    "name": "ipython",
    "version": 3
   },
   "file_extension": ".py",
   "mimetype": "text/x-python",
   "name": "python",
   "nbconvert_exporter": "python",
   "pygments_lexer": "ipython3",
   "version": "3.10.5"
  },
  "orig_nbformat": 4
 },
 "nbformat": 4,
 "nbformat_minor": 2
}
